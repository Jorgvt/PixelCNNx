{
 "cells": [
  {
   "cell_type": "markdown",
   "metadata": {},
   "source": [
    "# Sampling from the autorregresive model\n",
    "\n",
    "> We will be taken an already trained model and sample from it!"
   ]
  },
  {
   "cell_type": "code",
   "execution_count": 1,
   "metadata": {},
   "outputs": [
    {
     "name": "stderr",
     "output_type": "stream",
     "text": [
      "2023-08-15 00:25:44.510042: I tensorflow/core/util/port.cc:110] oneDNN custom operations are on. You may see slightly different numerical results due to floating-point round-off errors from different computation orders. To turn them off, set the environment variable `TF_ENABLE_ONEDNN_OPTS=0`.\n",
      "2023-08-15 00:25:44.567701: I tensorflow/core/platform/cpu_feature_guard.cc:182] This TensorFlow binary is optimized to use available CPU instructions in performance-critical operations.\n",
      "To enable the following instructions: AVX2 AVX512F AVX512_VNNI FMA, in other operations, rebuild TensorFlow with the appropriate compiler flags.\n",
      "2023-08-15 00:25:46.440089: W tensorflow/compiler/tf2tensorrt/utils/py_utils.cc:38] TF-TRT Warning: Could not find TensorRT\n"
     ]
    }
   ],
   "source": [
    "import tensorflow as tf\n",
    "tf.config.set_visible_devices([], device_type='GPU')"
   ]
  },
  {
   "cell_type": "code",
   "execution_count": 2,
   "metadata": {},
   "outputs": [],
   "source": [
    "import os\n",
    "from typing import Any, Callable, Sequence, Union\n",
    "import numpy as np\n",
    "import matplotlib.pyplot as plt\n",
    "\n",
    "import jax\n",
    "from jax import lax, random, numpy as jnp\n",
    "from flax.core import freeze, unfreeze, FrozenDict\n",
    "from flax import linen as nn\n",
    "from flax import struct\n",
    "from flax.training import train_state\n",
    "from flax.training import orbax_utils\n",
    "\n",
    "import optax\n",
    "import orbax.checkpoint\n",
    "\n",
    "from clu import metrics\n",
    "from ml_collections import ConfigDict\n",
    "\n",
    "from einops import reduce\n",
    "import wandb"
   ]
  },
  {
   "cell_type": "code",
   "execution_count": 3,
   "metadata": {},
   "outputs": [],
   "source": [
    "class PixelConv(nn.Module):\n",
    "    \"\"\"Masked convolution as in PixelCNN.\"\"\"\n",
    "    mask_type: str\n",
    "    features: int\n",
    "    kernel_size: Sequence[int]\n",
    "    strides: int = 1\n",
    "    padding: str = \"SAME\"\n",
    "    use_bias: bool = True\n",
    "    kernel_init: Callable = nn.initializers.lecun_normal()\n",
    "    bias_init: Callable = nn.initializers.zeros_init()\n",
    "\n",
    "    @nn.compact\n",
    "    def __call__(self, inputs):\n",
    "        ## 0. Instantiate the kernel and bias of the convolution\n",
    "        kernel = self.param(\"kernel\",\n",
    "                            self.kernel_init,\n",
    "                            (self.kernel_size[0], self.kernel_size[1], inputs.shape[-1], self.features))\n",
    "        bias = self.param(\"bias\",\n",
    "                          self.bias_init,\n",
    "                          (self.features,)) if self.use_bias else 0.\n",
    "\n",
    "        ## 1. Build the mask\n",
    "        mask = self.generate_mask(kernel.shape, self.mask_type)\n",
    "\n",
    "        ## 2. Calculate the masked convolution\n",
    "        ## Add the batch dim if the input is a single element\n",
    "        if jnp.ndim(inputs) < 4: inputs = inputs[None,:]; had_batch = False\n",
    "        else: had_batch = True\n",
    "        outputs = lax.conv(jnp.transpose(inputs,[0,3,1,2]),    # lhs = NCHW image tensor\n",
    "               jnp.transpose(kernel*mask,[3,2,0,1]), # rhs = OIHW conv kernel tensor\n",
    "               (self.strides, self.strides),\n",
    "               self.padding)\n",
    "        ## Move the channels back to the last dim\n",
    "        outputs = jnp.transpose(outputs, (0,2,3,1))\n",
    "        if not had_batch: outputs = outputs[0]\n",
    "        return outputs + bias\n",
    "    \n",
    "    @staticmethod\n",
    "    def generate_mask(kernel_size, mask_type):\n",
    "        mask = jnp.zeros(shape=kernel_size)\n",
    "        mask = mask.at[:kernel_size[0]//2].set(1.)\n",
    "        mask = mask.at[kernel_size[0]//2,:kernel_size[1]//2].set(1.)\n",
    "        if mask_type == \"B\":\n",
    "            mask = mask.at[kernel_size[0]//2,kernel_size[1]//2].set(1.)\n",
    "        return mask"
   ]
  },
  {
   "cell_type": "code",
   "execution_count": 4,
   "metadata": {},
   "outputs": [],
   "source": [
    "class ResidualBlock(nn.Module):\n",
    "    \"\"\"Residual block based on the `PixelConv` layer.\"\"\"\n",
    "    mask_type: str\n",
    "    features: int\n",
    "    kernel_size: Sequence[int]\n",
    "    strides: int = 1\n",
    "    padding: str = \"SAME\"\n",
    "    use_bias: bool = True\n",
    "    kernel_init: Callable = nn.initializers.lecun_normal()\n",
    "    bias_init: Callable = nn.initializers.zeros_init()\n",
    "\n",
    "    @nn.compact\n",
    "    def __call__(self, inputs):\n",
    "        outputs = nn.Conv(self.features, kernel_size=(1,1))(inputs)\n",
    "        outputs = nn.relu(outputs)\n",
    "        outputs = PixelConv(features=self.features//2, kernel_size=self.kernel_size, mask_type=self.mask_type)(outputs)\n",
    "        outputs = nn.relu(outputs)\n",
    "        outputs = nn.Conv(self.features, kernel_size=(1,1))(outputs)\n",
    "        outputs = nn.relu(outputs)\n",
    "        return inputs + outputs"
   ]
  },
  {
   "cell_type": "code",
   "execution_count": 5,
   "metadata": {},
   "outputs": [],
   "source": [
    "class PixelCNN(nn.Module):\n",
    "    \"\"\"PixelCNN model as stated in their original paper (or so they said in the Keras example).\"\"\"\n",
    "\n",
    "    n_residual_blocks: int = 5\n",
    "\n",
    "    @nn.compact\n",
    "    def __call__(self, inputs):\n",
    "        outputs = PixelConv(features=128, kernel_size=(7,7), mask_type=\"A\")(inputs)\n",
    "        outputs = nn.relu(outputs)\n",
    "        for _ in range(self.n_residual_blocks):\n",
    "            outputs = ResidualBlock(features=128, kernel_size=(3,3), mask_type=\"B\")(outputs)\n",
    "            outputs = nn.relu(outputs)\n",
    "        outputs = PixelConv(features=128, kernel_size=(1,1), mask_type=\"B\")(outputs)\n",
    "        outputs = nn.relu(outputs)\n",
    "        outputs = PixelConv(features=128, kernel_size=(1,1), mask_type=\"B\")(outputs)\n",
    "        outputs = nn.relu(outputs)\n",
    "        outputs = nn.Conv(features=1, kernel_size=(1,1))(outputs)\n",
    "        ## Skip the sigmoid activation because it's included in the loss function we will be using\n",
    "        return outputs"
   ]
  },
  {
   "cell_type": "code",
   "execution_count": 6,
   "metadata": {},
   "outputs": [],
   "source": [
    "@struct.dataclass\n",
    "class Metrics(metrics.Collection):\n",
    "    \"\"\"Collection of metrics to be tracked during training.\"\"\"\n",
    "    loss: metrics.Average.from_output(\"loss\")"
   ]
  },
  {
   "cell_type": "code",
   "execution_count": 7,
   "metadata": {},
   "outputs": [],
   "source": [
    "class TrainState(train_state.TrainState):\n",
    "    metrics: Metrics"
   ]
  },
  {
   "cell_type": "code",
   "execution_count": 8,
   "metadata": {},
   "outputs": [],
   "source": [
    "def create_train_state(module, key, tx, input_shape):\n",
    "    \"\"\"Creates the initial `TrainState`.\"\"\"\n",
    "    params = module.init(key, jnp.ones(input_shape))[\"params\"]\n",
    "    return TrainState.create(\n",
    "        apply_fn=module.apply,\n",
    "        params=params,\n",
    "        tx=tx,\n",
    "        metrics=Metrics.empty()\n",
    "    )"
   ]
  },
  {
   "cell_type": "code",
   "execution_count": 9,
   "metadata": {},
   "outputs": [],
   "source": [
    "state = create_train_state(PixelCNN(), random.PRNGKey(0), optax.adam(3e-4), input_shape=(1,28,28,1))"
   ]
  },
  {
   "cell_type": "code",
   "execution_count": 10,
   "metadata": {},
   "outputs": [],
   "source": [
    "orbax_checkpointer = orbax.checkpoint.PyTreeCheckpointer()\n",
    "save_args = orbax_utils.save_args_from_target(state)"
   ]
  },
  {
   "cell_type": "markdown",
   "metadata": {},
   "source": [
    "## Now we'll load the pretrained model"
   ]
  },
  {
   "cell_type": "code",
   "execution_count": 11,
   "metadata": {},
   "outputs": [],
   "source": [
    "state = orbax_checkpointer.restore(\"model-final-1000\", item=state)"
   ]
  },
  {
   "cell_type": "code",
   "execution_count": 12,
   "metadata": {},
   "outputs": [],
   "source": [
    "@jax.jit\n",
    "def obtain_pred(state, inputs): \n",
    "    return state.apply_fn({\"params\": state.params}, inputs)"
   ]
  },
  {
   "cell_type": "code",
   "execution_count": 29,
   "metadata": {},
   "outputs": [
    {
     "name": "stdout",
     "output_type": "stream",
     "text": [
      "CPU times: user 13.4 s, sys: 3.42 s, total: 16.9 s\n",
      "Wall time: 8.84 s\n"
     ]
    }
   ],
   "source": [
    "%%time\n",
    "keygen = random.PRNGKey(0)\n",
    "n_imgs_to_generate = 4\n",
    "generated_batch = jnp.zeros(shape=(n_imgs_to_generate,28,28,1))\n",
    "batch, rows, cols, channels = generated_batch.shape\n",
    "\n",
    "for row in range(rows):\n",
    "    for col in range(cols):\n",
    "        for channel in range(channels):\n",
    "            ## 1. Pass the blank images to generate the next (or first) pixel\n",
    "            pred = obtain_pred(state, generated_batch)\n",
    "            pred = nn.sigmoid(pred)\n",
    "            ## 2. Obtain the value of the pixel by sampling from a Bernoulli distribution\n",
    "            pixel = pred[:,row,col,channel]\n",
    "            pixel = random.bernoulli(keygen, p=pixel)*1.\n",
    "            keygen, _ = random.split(keygen)\n",
    "            generated_batch = generated_batch.at[:,row,col,channel].set(pixel)\n",
    "    #         break\n",
    "    #     break\n",
    "    # break"
   ]
  },
  {
   "cell_type": "code",
   "execution_count": 30,
   "metadata": {},
   "outputs": [
    {
     "data": {
      "image/png": "[encoded data removed]",
      "text/plain": [
       "<Figure size 640x480 with 1 Axes>"
      ]
     },
     "metadata": {},
     "output_type": "display_data"
    },
    {
     "data": {
      "image/png": "[encoded data removed]",
      "text/plain": [
       "<Figure size 640x480 with 1 Axes>"
      ]
     },
     "metadata": {},
     "output_type": "display_data"
    },
    {
     "data": {
      "image/png": "[encoded data removed]",
      "text/plain": [
       "<Figure size 640x480 with 1 Axes>"
      ]
     },
     "metadata": {},
     "output_type": "display_data"
    },
    {
     "data": {
      "image/png": "[encoded data removed]",
      "text/plain": [
       "<Figure size 640x480 with 1 Axes>"
      ]
     },
     "metadata": {},
     "output_type": "display_data"
    }
   ],
   "source": [
    "for gen_img in generated_batch:\n",
    "    plt.imshow(gen_img)\n",
    "    plt.show()"
   ]
  },
  {
   "cell_type": "code",
   "execution_count": null,
   "metadata": {},
   "outputs": [],
   "source": []
  }
 ],
 "metadata": {
  "kernelspec": {
   "display_name": "deep_gpu_tf",
   "language": "python",
   "name": "python3"
  },
  "language_info": {
   "codemirror_mode": {
    "name": "ipython",
    "version": 3
   },
   "file_extension": ".py",
   "mimetype": "text/x-python",
   "name": "python",
   "nbconvert_exporter": "python",
   "pygments_lexer": "ipython3",
   "version": "3.8.16"
  },
  "orig_nbformat": 4
 },
 "nbformat": 4,
 "nbformat_minor": 2
}
